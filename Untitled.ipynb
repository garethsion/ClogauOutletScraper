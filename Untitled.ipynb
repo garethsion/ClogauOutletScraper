{
 "cells": [
  {
   "cell_type": "code",
   "execution_count": 3,
   "id": "4436cdfe-a089-4a48-bdd4-8fa3a452695f",
   "metadata": {},
   "outputs": [
    {
     "data": {
      "text/plain": [
       "['2022-03-28_13-46-12',\n",
       " '2022-03-28_13-46-12',\n",
       " '2022-03-28_13-46-12',\n",
       " '2022-03-28_13-46-12',\n",
       " '2022-03-28_13-46-12',\n",
       " '2022-03-28_13-46-12',\n",
       " '2022-03-28_13-46-12',\n",
       " '2022-03-28_13-46-12',\n",
       " '2022-03-28_13-46-12',\n",
       " '2022-03-28_13-46-12']"
      ]
     },
     "execution_count": 3,
     "metadata": {},
     "output_type": "execute_result"
    }
   ],
   "source": [
    "from datetime import datetime\n",
    "\n",
    "now = datetime.now()\n",
    "dt_string = now.strftime(\"%Y-%m-%d_%H-%M-%S\")\n",
    "\n",
    "\n",
    "[dt_string] * 10"
   ]
  },
  {
   "cell_type": "code",
   "execution_count": null,
   "id": "fe9a26b0-10cd-449c-a391-93051e8323f6",
   "metadata": {},
   "outputs": [],
   "source": []
  }
 ],
 "metadata": {
  "kernelspec": {
   "display_name": "Python 3 (ipykernel)",
   "language": "python",
   "name": "python3"
  },
  "language_info": {
   "codemirror_mode": {
    "name": "ipython",
    "version": 3
   },
   "file_extension": ".py",
   "mimetype": "text/x-python",
   "name": "python",
   "nbconvert_exporter": "python",
   "pygments_lexer": "ipython3",
   "version": "3.9.6"
  }
 },
 "nbformat": 4,
 "nbformat_minor": 5
}
